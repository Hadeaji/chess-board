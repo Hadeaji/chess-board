{
 "cells": [
  {
   "cell_type": "code",
   "execution_count": 45,
   "metadata": {},
   "outputs": [],
   "source": [
    "import matplotlib.pyplot as plt\n",
    "import matplotlib.image as mpimg\n",
    "import numpy as np\n",
    "from random import random\n"
   ]
  },
  {
   "cell_type": "code",
   "execution_count": 46,
   "metadata": {},
   "outputs": [],
   "source": [
    "class ChessBoard:\n",
    "    white = [1,1,1]\n",
    "    black = [0,0,0]\n",
    "    blue = [0,0,1]\n",
    "    red = [1,0,0]\n",
    "    def __init__(self):\n",
    "        self.grid = np.zeros([8,8,3])\n",
    "        self.grid[::2,::2] = ChessBoard.white\n",
    "        self.grid[1::2,1::2] = ChessBoard.white\n",
    "        self.red=[]\n",
    "        self.blue=[]\n",
    "     \n",
    "    def render(self):\n",
    "        plt.imshow(self.grid)\n",
    "    \n",
    "    def add_red(self,row,col):\n",
    "        self.grid[row,col] = ChessBoard.red\n",
    "        self.red=[row,col]\n",
    "\n",
    "    def add_blue(self,row,col):\n",
    "        self.grid[row,col] = ChessBoard.blue\n",
    "        self.blue=[row,col]\n",
    "\n",
    "    def is_under_attack(self):\n",
    "        try:\n",
    "            # checks vertically \n",
    "            if self.red[0]==self.blue[0]:\n",
    "                return True\n",
    "\n",
    "            # checks horizontally\n",
    "            if self.red[1]==self.blue[1]:\n",
    "                return True\n",
    "\n",
    "            # checks diagonally\n",
    "            if abs(self.red[0]-self.blue[0]) == abs(self.red[1]-self.blue[1]):\n",
    "                return True\n",
    "        except:\n",
    "            return False\n",
    "        else:\n",
    "            return False\n"
   ]
  },
  {
   "cell_type": "code",
   "execution_count": 47,
   "metadata": {},
   "outputs": [
    {
     "data": {
      "image/png": "[encoded data removed]",
      "text/plain": [
       "<Figure size 432x288 with 1 Axes>"
      ]
     },
     "metadata": {
      "needs_background": "light"
     },
     "output_type": "display_data"
    }
   ],
   "source": [
    "board = ChessBoard()\n",
    "board.add_red(5,5)\n",
    "board.add_blue(1,2)\n",
    "board.render()\n"
   ]
  },
  {
   "cell_type": "code",
   "execution_count": 50,
   "metadata": {},
   "outputs": [
    {
     "data": {
      "text/plain": [
       "False"
      ]
     },
     "execution_count": 50,
     "metadata": {},
     "output_type": "execute_result"
    }
   ],
   "source": [
    "test = ChessBoard()\n",
    "test.add_red(5,5)\n",
    "test.add_blue(1,3)\n",
    "test.is_under_attack()\n",
    "    "
   ]
  },
  {
   "cell_type": "code",
   "execution_count": null,
   "metadata": {},
   "outputs": [],
   "source": []
  }
 ],
 "metadata": {
  "kernelspec": {
   "display_name": "Python 3",
   "language": "python",
   "name": "python3"
  },
  "language_info": {
   "codemirror_mode": {
    "name": "ipython",
    "version": 3
   },
   "file_extension": ".py",
   "mimetype": "text/x-python",
   "name": "python",
   "nbconvert_exporter": "python",
   "pygments_lexer": "ipython3",
   "version": "3.9.0"
  }
 },
 "nbformat": 4,
 "nbformat_minor": 4
}
